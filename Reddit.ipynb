{
  "nbformat": 4,
  "nbformat_minor": 0,
  "metadata": {
    "colab": {
      "provenance": [],
      "authorship_tag": "ABX9TyOXKM/ottapgIVwiJxV7bRo",
      "include_colab_link": true
    },
    "kernelspec": {
      "name": "python3",
      "display_name": "Python 3"
    },
    "language_info": {
      "name": "python"
    }
  },
  "cells": [
    {
      "cell_type": "markdown",
      "metadata": {
        "id": "view-in-github",
        "colab_type": "text"
      },
      "source": [
        "<a href=\"https://colab.research.google.com/github/joyal861/Web-crawling/blob/main/Reddit.ipynb\" target=\"_parent\"><img src=\"https://colab.research.google.com/assets/colab-badge.svg\" alt=\"Open In Colab\"/></a>"
      ]
    },
    {
      "cell_type": "code",
      "execution_count": null,
      "metadata": {
        "colab": {
          "base_uri": "https://localhost:8080/"
        },
        "id": "t4iZ7KlRBzXB",
        "outputId": "d0832b26-16ce-42ab-b33b-a258a92517ed"
      },
      "outputs": [
        {
          "output_type": "stream",
          "name": "stdout",
          "text": [
            "Collecting asyncpraw\n",
            "  Downloading asyncpraw-7.7.1-py3-none-any.whl.metadata (9.7 kB)\n",
            "Requirement already satisfied: pandas in /usr/local/lib/python3.10/dist-packages (2.1.4)\n",
            "Requirement already satisfied: nest_asyncio in /usr/local/lib/python3.10/dist-packages (1.6.0)\n",
            "Collecting aiofiles<1 (from asyncpraw)\n",
            "  Downloading aiofiles-0.8.0-py3-none-any.whl.metadata (7.0 kB)\n",
            "Requirement already satisfied: aiohttp<4 in /usr/local/lib/python3.10/dist-packages (from asyncpraw) (3.10.2)\n",
            "Collecting aiosqlite<=0.17.0 (from asyncpraw)\n",
            "  Downloading aiosqlite-0.17.0-py3-none-any.whl.metadata (4.1 kB)\n",
            "Collecting asyncprawcore<3,>=2.1 (from asyncpraw)\n",
            "  Downloading asyncprawcore-2.4.0-py3-none-any.whl.metadata (5.5 kB)\n",
            "Collecting update-checker>=0.18 (from asyncpraw)\n",
            "  Downloading update_checker-0.18.0-py3-none-any.whl.metadata (2.3 kB)\n",
            "Requirement already satisfied: numpy<2,>=1.22.4 in /usr/local/lib/python3.10/dist-packages (from pandas) (1.26.4)\n",
            "Requirement already satisfied: python-dateutil>=2.8.2 in /usr/local/lib/python3.10/dist-packages (from pandas) (2.8.2)\n",
            "Requirement already satisfied: pytz>=2020.1 in /usr/local/lib/python3.10/dist-packages (from pandas) (2024.1)\n",
            "Requirement already satisfied: tzdata>=2022.1 in /usr/local/lib/python3.10/dist-packages (from pandas) (2024.1)\n",
            "Requirement already satisfied: aiohappyeyeballs>=2.3.0 in /usr/local/lib/python3.10/dist-packages (from aiohttp<4->asyncpraw) (2.3.5)\n",
            "Requirement already satisfied: aiosignal>=1.1.2 in /usr/local/lib/python3.10/dist-packages (from aiohttp<4->asyncpraw) (1.3.1)\n",
            "Requirement already satisfied: attrs>=17.3.0 in /usr/local/lib/python3.10/dist-packages (from aiohttp<4->asyncpraw) (24.2.0)\n",
            "Requirement already satisfied: frozenlist>=1.1.1 in /usr/local/lib/python3.10/dist-packages (from aiohttp<4->asyncpraw) (1.4.1)\n",
            "Requirement already satisfied: multidict<7.0,>=4.5 in /usr/local/lib/python3.10/dist-packages (from aiohttp<4->asyncpraw) (6.0.5)\n",
            "Requirement already satisfied: yarl<2.0,>=1.0 in /usr/local/lib/python3.10/dist-packages (from aiohttp<4->asyncpraw) (1.9.4)\n",
            "Requirement already satisfied: async-timeout<5.0,>=4.0 in /usr/local/lib/python3.10/dist-packages (from aiohttp<4->asyncpraw) (4.0.3)\n",
            "Requirement already satisfied: typing_extensions>=3.7.2 in /usr/local/lib/python3.10/dist-packages (from aiosqlite<=0.17.0->asyncpraw) (4.12.2)\n",
            "Requirement already satisfied: six>=1.5 in /usr/local/lib/python3.10/dist-packages (from python-dateutil>=2.8.2->pandas) (1.16.0)\n",
            "Requirement already satisfied: requests>=2.3.0 in /usr/local/lib/python3.10/dist-packages (from update-checker>=0.18->asyncpraw) (2.32.3)\n",
            "Requirement already satisfied: charset-normalizer<4,>=2 in /usr/local/lib/python3.10/dist-packages (from requests>=2.3.0->update-checker>=0.18->asyncpraw) (3.3.2)\n",
            "Requirement already satisfied: idna<4,>=2.5 in /usr/local/lib/python3.10/dist-packages (from requests>=2.3.0->update-checker>=0.18->asyncpraw) (3.7)\n",
            "Requirement already satisfied: urllib3<3,>=1.21.1 in /usr/local/lib/python3.10/dist-packages (from requests>=2.3.0->update-checker>=0.18->asyncpraw) (2.0.7)\n",
            "Requirement already satisfied: certifi>=2017.4.17 in /usr/local/lib/python3.10/dist-packages (from requests>=2.3.0->update-checker>=0.18->asyncpraw) (2024.7.4)\n",
            "Downloading asyncpraw-7.7.1-py3-none-any.whl (196 kB)\n",
            "\u001b[2K   \u001b[90m━━━━━━━━━━━━━━━━━━━━━━━━━━━━━━━━━━━━━━━━\u001b[0m \u001b[32m196.7/196.7 kB\u001b[0m \u001b[31m4.8 MB/s\u001b[0m eta \u001b[36m0:00:00\u001b[0m\n",
            "\u001b[?25hDownloading aiofiles-0.8.0-py3-none-any.whl (13 kB)\n",
            "Downloading aiosqlite-0.17.0-py3-none-any.whl (15 kB)\n",
            "Downloading asyncprawcore-2.4.0-py3-none-any.whl (19 kB)\n",
            "Downloading update_checker-0.18.0-py3-none-any.whl (7.0 kB)\n",
            "Installing collected packages: aiosqlite, aiofiles, update-checker, asyncprawcore, asyncpraw\n",
            "Successfully installed aiofiles-0.8.0 aiosqlite-0.17.0 asyncpraw-7.7.1 asyncprawcore-2.4.0 update-checker-0.18.0\n"
          ]
        }
      ],
      "source": [
        "# Install Required Libraries:\n",
        "!pip install asyncpraw pandas nest_asyncio\n",
        "# Install required libraries:\n",
        "import asyncio\n",
        "import asyncpraw\n",
        "import pandas as pd\n",
        "import nest_asyncio\n",
        "# Allow nested event loops in Colab\n",
        "nest_asyncio.apply()"
      ]
    },
    {
      "cell_type": "code",
      "source": [
        "# Reddit API credentials\n",
        "client_id = 'J7Im-wvlXACLQL2e65X_WA'\n",
        "client_secret = 'UT8CFJxfeygMxmHS9ppknceG35swqw'\n",
        "user_agent = '_Joyaljose__'\n",
        "# Initialize async PRAW with API credentials\n",
        "reddit = asyncpraw.Reddit(client_id=client_id,\n",
        "client_secret=client_secret,\n",
        "user_agent=user_agent)\n",
        "# Define the subreddit and the number of posts to fetch\n",
        "subreddit_name = 'NothingTech+smartphones+Android'\n",
        "num_posts = 1000\n",
        "async def fetch_posts():\n",
        "  subreddit = await reddit.subreddit(subreddit_name)\n",
        "  posts = []\n",
        "  async for post in subreddit.hot(limit=num_posts):\n",
        "    posts.append({\n",
        "      'title': post.title,\n",
        "      'score': post.score,\n",
        "      'id': post.id,\n",
        "      'url': post.url,\n",
        "      'num_comments': post.num_comments,\n",
        "      'created': post.created,\n",
        "      'body': post.selftext\n",
        "})\n",
        "# Convert the list of posts to a DataFrame\n",
        "  df = pd.DataFrame(posts)\n",
        "# Save the DataFrame to a CSV file\n",
        "  df.to_csv('reddit_posts.csv', index=False)\n",
        "  print(\"Posts have been saved to reddit_posts.csv\")\n",
        "# Run the async function\n",
        "await fetch_posts()\n"
      ],
      "metadata": {
        "colab": {
          "base_uri": "https://localhost:8080/"
        },
        "id": "fZy2NidTCDI-",
        "outputId": "13ace4fb-e2c2-4d6c-c338-1bafc1ae76de"
      },
      "execution_count": null,
      "outputs": [
        {
          "output_type": "stream",
          "name": "stdout",
          "text": [
            "Posts have been saved to reddit_posts.csv\n"
          ]
        }
      ]
    },
    {
      "cell_type": "code",
      "source": [
        "import pandas as pd\n",
        "# Load the CSV file\n",
        "df = pd.read_csv('reddit_posts.csv')\n",
        "# Display the first few rows of the DataFrame\n",
        "print(df.head())"
      ],
      "metadata": {
        "colab": {
          "base_uri": "https://localhost:8080/"
        },
        "id": "zRVFb_nzDQBC",
        "outputId": "3da1985e-93d2-4959-9388-cd7c0bffb681"
      },
      "execution_count": null,
      "outputs": [
        {
          "output_type": "stream",
          "name": "stdout",
          "text": [
            "                                               title  score       id  \\\n",
            "0                                       CMF Speaker     139  1evadkq   \n",
            "1  I never thought Pixels would survive this long...    799  1eul7sv   \n",
            "2  Taking pictures automatically syncs to google ...      1  1evs76t   \n",
            "3  What is the most beautiful phone ever made pas...      5  1evjgob   \n",
            "4  I noticed android flagships from 2021 are chea...      0  1evq9tg   \n",
            "\n",
            "                                                 url  num_comments  \\\n",
            "0               https://i.redd.it/j13bihxslfjd1.jpeg            19   \n",
            "1  https://www.androidauthority.com/never-thought...           407   \n",
            "2  https://www.reddit.com/r/Smartphones/comments/...             0   \n",
            "3  https://www.reddit.com/r/Android/comments/1evj...            71   \n",
            "4  https://www.reddit.com/r/Smartphones/comments/...            12   \n",
            "\n",
            "        created                                               body  \n",
            "0  1.723991e+09  Concept design for speaker inspired by Nothing...  \n",
            "1  1.723911e+09                                                NaN  \n",
            "2  1.724039e+09  I have a pixel 7 with a gmail synced to it. Wh...  \n",
            "3  1.724014e+09  What do you think is the most beautiful phone ...  \n",
            "4  1.724033e+09  Pixel 6: 180 USD\\niPhone 13: 365 USD\\nGalaxy S...  \n"
          ]
        }
      ]
    },
    {
      "cell_type": "code",
      "source": [
        "# Verify the structure of the data\n",
        "print(\"First few rows of the DataFrame:\\n\", df.head())\n",
        "# Verify the column names\n",
        "expected_columns = ['title', 'score', 'id', 'url', 'num_comments', 'created', 'body']\n",
        "print(\"Column names:\", df.columns.tolist())\n",
        "assert df.columns.tolist() == expected_columns, \"Column names do not match!\"\n",
        "# Verify the data types\n",
        "print(\"Data types of each column:\\n\", df.dtypes)\n",
        "# Verify data integrity by checking for missing or corrupted values\n",
        "print(\"Missing values:\\n\", df.isnull().sum())\n",
        "df.fillna('', inplace=True)\n",
        "##assert df.isnull().sum().sum() == 0, \"There are missing values in the DataFrame!\"\n",
        "#This is an error\n",
        "# Additional sanity checks\n",
        "print(\"Number of rows in the DataFrame:\", len(df))\n",
        "assert len(df) > 0, \"DataFrame is empty!\""
      ],
      "metadata": {
        "colab": {
          "base_uri": "https://localhost:8080/"
        },
        "id": "DxW-Ff8EES76",
        "outputId": "8d6afe0c-8f32-49b9-ffe1-ac07eecb805b"
      },
      "execution_count": null,
      "outputs": [
        {
          "output_type": "stream",
          "name": "stdout",
          "text": [
            "First few rows of the DataFrame:\n",
            "                                                title  score       id  \\\n",
            "0                                       CMF Speaker     139  1evadkq   \n",
            "1  I never thought Pixels would survive this long...    799  1eul7sv   \n",
            "2  Taking pictures automatically syncs to google ...      1  1evs76t   \n",
            "3  What is the most beautiful phone ever made pas...      5  1evjgob   \n",
            "4  I noticed android flagships from 2021 are chea...      0  1evq9tg   \n",
            "\n",
            "                                                 url  num_comments  \\\n",
            "0               https://i.redd.it/j13bihxslfjd1.jpeg            19   \n",
            "1  https://www.androidauthority.com/never-thought...           407   \n",
            "2  https://www.reddit.com/r/Smartphones/comments/...             0   \n",
            "3  https://www.reddit.com/r/Android/comments/1evj...            71   \n",
            "4  https://www.reddit.com/r/Smartphones/comments/...            12   \n",
            "\n",
            "        created                                               body  \n",
            "0  1.723991e+09  Concept design for speaker inspired by Nothing...  \n",
            "1  1.723911e+09                                                NaN  \n",
            "2  1.724039e+09  I have a pixel 7 with a gmail synced to it. Wh...  \n",
            "3  1.724014e+09  What do you think is the most beautiful phone ...  \n",
            "4  1.724033e+09  Pixel 6: 180 USD\\niPhone 13: 365 USD\\nGalaxy S...  \n",
            "Column names: ['title', 'score', 'id', 'url', 'num_comments', 'created', 'body']\n",
            "Data types of each column:\n",
            " title            object\n",
            "score             int64\n",
            "id               object\n",
            "url              object\n",
            "num_comments      int64\n",
            "created         float64\n",
            "body             object\n",
            "dtype: object\n",
            "Missing values:\n",
            " title            0\n",
            "score            0\n",
            "id               0\n",
            "url              0\n",
            "num_comments     0\n",
            "created          0\n",
            "body            83\n",
            "dtype: int64\n",
            "Number of rows in the DataFrame: 358\n"
          ]
        }
      ]
    },
    {
      "cell_type": "code",
      "source": [
        "# Handle missing values\n",
        "# Fill missing values in ’body’ with an empty string\n",
        "df['body'].fillna('', inplace=True)\n",
        "# Remove rows with missing values in ’title’ or ’created’\n",
        "df.dropna(subset=['title', 'created'], inplace=True)\n",
        "print(\"Missing values after cleaning:\\n\", df.isnull().sum())"
      ],
      "metadata": {
        "colab": {
          "base_uri": "https://localhost:8080/"
        },
        "id": "ozNA-xARGHTr",
        "outputId": "5843daf4-4f64-4d21-c5cd-7f545d3458ca"
      },
      "execution_count": null,
      "outputs": [
        {
          "output_type": "stream",
          "name": "stdout",
          "text": [
            "Missing values after cleaning:\n",
            " title           0\n",
            "score           0\n",
            "id              0\n",
            "url             0\n",
            "num_comments    0\n",
            "created         0\n",
            "body            0\n",
            "dtype: int64\n"
          ]
        }
      ]
    },
    {
      "cell_type": "code",
      "source": [
        "# Remove duplicate entries based on ’id’\n",
        "df.drop_duplicates(subset=['id'], inplace=True)\n",
        "print(\"Data after removing duplicates:\\n\", df.head())"
      ],
      "metadata": {
        "colab": {
          "base_uri": "https://localhost:8080/"
        },
        "id": "BRYJTRztHCkY",
        "outputId": "6d2e523b-c501-459f-cd8f-18b3204cdd62"
      },
      "execution_count": null,
      "outputs": [
        {
          "output_type": "stream",
          "name": "stdout",
          "text": [
            "Data after removing duplicates:\n",
            "                                                title  score       id  \\\n",
            "0                                       CMF Speaker     139  1evadkq   \n",
            "1  I never thought Pixels would survive this long...    799  1eul7sv   \n",
            "2  Taking pictures automatically syncs to google ...      1  1evs76t   \n",
            "3  What is the most beautiful phone ever made pas...      5  1evjgob   \n",
            "4  I noticed android flagships from 2021 are chea...      0  1evq9tg   \n",
            "\n",
            "                                                 url  num_comments  \\\n",
            "0               https://i.redd.it/j13bihxslfjd1.jpeg            19   \n",
            "1  https://www.androidauthority.com/never-thought...           407   \n",
            "2  https://www.reddit.com/r/Smartphones/comments/...             0   \n",
            "3  https://www.reddit.com/r/Android/comments/1evj...            71   \n",
            "4  https://www.reddit.com/r/Smartphones/comments/...            12   \n",
            "\n",
            "        created                                               body  \n",
            "0  1.723991e+09  Concept design for speaker inspired by Nothing...  \n",
            "1  1.723911e+09                                                     \n",
            "2  1.724039e+09  I have a pixel 7 with a gmail synced to it. Wh...  \n",
            "3  1.724014e+09  What do you think is the most beautiful phone ...  \n",
            "4  1.724033e+09  Pixel 6: 180 USD\\niPhone 13: 365 USD\\nGalaxy S...  \n"
          ]
        }
      ]
    },
    {
      "cell_type": "code",
      "source": [
        "# Standardize text data\n",
        "df['title'] = df['title'].str.lower()\n",
        "df['body'] = df['body'].str.lower()\n",
        "print(\"Data after text standardization:\\n\", df.head())"
      ],
      "metadata": {
        "colab": {
          "base_uri": "https://localhost:8080/"
        },
        "id": "Fp4MVXXcHQiy",
        "outputId": "15b3e3d8-8e23-4f4f-c93f-0993ba832126"
      },
      "execution_count": null,
      "outputs": [
        {
          "output_type": "stream",
          "name": "stdout",
          "text": [
            "Data after text standardization:\n",
            "                                                title  score       id  \\\n",
            "0                                       cmf speaker     139  1evadkq   \n",
            "1  i never thought pixels would survive this long...    799  1eul7sv   \n",
            "2  taking pictures automatically syncs to google ...      1  1evs76t   \n",
            "3  what is the most beautiful phone ever made pas...      5  1evjgob   \n",
            "4  i noticed android flagships from 2021 are chea...      0  1evq9tg   \n",
            "\n",
            "                                                 url  num_comments  \\\n",
            "0               https://i.redd.it/j13bihxslfjd1.jpeg            19   \n",
            "1  https://www.androidauthority.com/never-thought...           407   \n",
            "2  https://www.reddit.com/r/Smartphones/comments/...             0   \n",
            "3  https://www.reddit.com/r/Android/comments/1evj...            71   \n",
            "4  https://www.reddit.com/r/Smartphones/comments/...            12   \n",
            "\n",
            "        created                                               body  \n",
            "0  1.723991e+09  concept design for speaker inspired by nothing...  \n",
            "1  1.723911e+09                                                     \n",
            "2  1.724039e+09  i have a pixel 7 with a gmail synced to it. wh...  \n",
            "3  1.724014e+09  what do you think is the most beautiful phone ...  \n",
            "4  1.724033e+09  pixel 6: 180 usd\\niphone 13: 365 usd\\ngalaxy s...  \n"
          ]
        }
      ]
    },
    {
      "cell_type": "code",
      "source": [
        "print(df.head())"
      ],
      "metadata": {
        "colab": {
          "base_uri": "https://localhost:8080/"
        },
        "id": "O9p4zTtVHiJt",
        "outputId": "d66e85df-e9b4-4725-a422-edb54c8d073d"
      },
      "execution_count": null,
      "outputs": [
        {
          "output_type": "stream",
          "name": "stdout",
          "text": [
            "                                               title  score       id  \\\n",
            "0                                       cmf speaker     139  1evadkq   \n",
            "1  i never thought pixels would survive this long...    799  1eul7sv   \n",
            "2  taking pictures automatically syncs to google ...      1  1evs76t   \n",
            "3  what is the most beautiful phone ever made pas...      5  1evjgob   \n",
            "4  i noticed android flagships from 2021 are chea...      0  1evq9tg   \n",
            "\n",
            "                                                 url  num_comments  \\\n",
            "0               https://i.redd.it/j13bihxslfjd1.jpeg            19   \n",
            "1  https://www.androidauthority.com/never-thought...           407   \n",
            "2  https://www.reddit.com/r/Smartphones/comments/...             0   \n",
            "3  https://www.reddit.com/r/Android/comments/1evj...            71   \n",
            "4  https://www.reddit.com/r/Smartphones/comments/...            12   \n",
            "\n",
            "        created                                               body  \n",
            "0  1.723991e+09  concept design for speaker inspired by nothing...  \n",
            "1  1.723911e+09                                                     \n",
            "2  1.724039e+09  i have a pixel 7 with a gmail synced to it. wh...  \n",
            "3  1.724014e+09  what do you think is the most beautiful phone ...  \n",
            "4  1.724033e+09  pixel 6: 180 usd\\niphone 13: 365 usd\\ngalaxy s...  \n"
          ]
        }
      ]
    },
    {
      "cell_type": "code",
      "source": [],
      "metadata": {
        "id": "Fznxro8yHtbW"
      },
      "execution_count": null,
      "outputs": []
    }
  ]
}